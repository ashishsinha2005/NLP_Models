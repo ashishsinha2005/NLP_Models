{
 "cells": [
  {
   "cell_type": "code",
   "execution_count": 723,
   "metadata": {},
   "outputs": [],
   "source": [
    "# movie recommendation system \n",
    "\n"
   ]
  },
  {
   "cell_type": "code",
   "execution_count": 727,
   "metadata": {},
   "outputs": [],
   "source": [
    " import pandas as pd\n",
    " import numpy as np\n",
    " import difflib\n",
    " import matplotlib.pyplot as plt\n",
    " import seaborn as sns\n",
    " from sklearn.feature_extraction.text import TfidfVectorizer\n",
    " from sklearn.metrics.pairwise import cosine_similarity"
   ]
  },
  {
   "cell_type": "code",
   "execution_count": 729,
   "metadata": {},
   "outputs": [],
   "source": [
    "# Data Collection And Preprocessing"
   ]
  },
  {
   "cell_type": "code",
   "execution_count": 735,
   "metadata": {},
   "outputs": [],
   "source": [
    " #Loading The data to DataFrame\n",
    " movies_data = pd.read_csv('C:/Users/ashis/Work/Project/Hawk/Code/Edureka/data/movies.csv')"
   ]
  },
  {
   "cell_type": "code",
   "execution_count": 737,
   "metadata": {},
   "outputs": [
    {
     "data": {
      "text/html": [
       "<div>\n",
       "<style scoped>\n",
       "    .dataframe tbody tr th:only-of-type {\n",
       "        vertical-align: middle;\n",
       "    }\n",
       "\n",
       "    .dataframe tbody tr th {\n",
       "        vertical-align: top;\n",
       "    }\n",
       "\n",
       "    .dataframe thead th {\n",
       "        text-align: right;\n",
       "    }\n",
       "</style>\n",
       "<table border=\"1\" class=\"dataframe\">\n",
       "  <thead>\n",
       "    <tr style=\"text-align: right;\">\n",
       "      <th></th>\n",
       "      <th>index</th>\n",
       "      <th>budget</th>\n",
       "      <th>genres</th>\n",
       "      <th>...</th>\n",
       "      <th>cast</th>\n",
       "      <th>crew</th>\n",
       "      <th>director</th>\n",
       "    </tr>\n",
       "  </thead>\n",
       "  <tbody>\n",
       "    <tr>\n",
       "      <th>0</th>\n",
       "      <td>0</td>\n",
       "      <td>237000000</td>\n",
       "      <td>Action Adventure Fantasy Science Fiction</td>\n",
       "      <td>...</td>\n",
       "      <td>Sam Worthington Zoe Saldana Sigourney Weaver S...</td>\n",
       "      <td>[{'name': 'Stephen E. Rivkin', 'gender': 0, 'd...</td>\n",
       "      <td>James Cameron</td>\n",
       "    </tr>\n",
       "    <tr>\n",
       "      <th>1</th>\n",
       "      <td>1</td>\n",
       "      <td>300000000</td>\n",
       "      <td>Adventure Fantasy Action</td>\n",
       "      <td>...</td>\n",
       "      <td>Johnny Depp Orlando Bloom Keira Knightley Stel...</td>\n",
       "      <td>[{'name': 'Dariusz Wolski', 'gender': 2, 'depa...</td>\n",
       "      <td>Gore Verbinski</td>\n",
       "    </tr>\n",
       "    <tr>\n",
       "      <th>2</th>\n",
       "      <td>2</td>\n",
       "      <td>245000000</td>\n",
       "      <td>Action Adventure Crime</td>\n",
       "      <td>...</td>\n",
       "      <td>Daniel Craig Christoph Waltz L\\u00e9a Seydoux ...</td>\n",
       "      <td>[{'name': 'Thomas Newman', 'gender': 2, 'depar...</td>\n",
       "      <td>Sam Mendes</td>\n",
       "    </tr>\n",
       "    <tr>\n",
       "      <th>3</th>\n",
       "      <td>3</td>\n",
       "      <td>250000000</td>\n",
       "      <td>Action Crime Drama Thriller</td>\n",
       "      <td>...</td>\n",
       "      <td>Christian Bale Michael Caine Gary Oldman Anne ...</td>\n",
       "      <td>[{'name': 'Hans Zimmer', 'gender': 2, 'departm...</td>\n",
       "      <td>Christopher Nolan</td>\n",
       "    </tr>\n",
       "    <tr>\n",
       "      <th>4</th>\n",
       "      <td>4</td>\n",
       "      <td>260000000</td>\n",
       "      <td>Action Adventure Science Fiction</td>\n",
       "      <td>...</td>\n",
       "      <td>Taylor Kitsch Lynn Collins Samantha Morton Wil...</td>\n",
       "      <td>[{'name': 'Andrew Stanton', 'gender': 2, 'depa...</td>\n",
       "      <td>Andrew Stanton</td>\n",
       "    </tr>\n",
       "  </tbody>\n",
       "</table>\n",
       "<p>5 rows × 24 columns</p>\n",
       "</div>"
      ],
      "text/plain": [
       "   index     budget                                    genres  ...  \\\n",
       "0      0  237000000  Action Adventure Fantasy Science Fiction  ...   \n",
       "1      1  300000000                  Adventure Fantasy Action  ...   \n",
       "2      2  245000000                    Action Adventure Crime  ...   \n",
       "3      3  250000000               Action Crime Drama Thriller  ...   \n",
       "4      4  260000000          Action Adventure Science Fiction  ...   \n",
       "\n",
       "                                                cast  \\\n",
       "0  Sam Worthington Zoe Saldana Sigourney Weaver S...   \n",
       "1  Johnny Depp Orlando Bloom Keira Knightley Stel...   \n",
       "2  Daniel Craig Christoph Waltz L\\u00e9a Seydoux ...   \n",
       "3  Christian Bale Michael Caine Gary Oldman Anne ...   \n",
       "4  Taylor Kitsch Lynn Collins Samantha Morton Wil...   \n",
       "\n",
       "                                                crew           director  \n",
       "0  [{'name': 'Stephen E. Rivkin', 'gender': 0, 'd...      James Cameron  \n",
       "1  [{'name': 'Dariusz Wolski', 'gender': 2, 'depa...     Gore Verbinski  \n",
       "2  [{'name': 'Thomas Newman', 'gender': 2, 'depar...         Sam Mendes  \n",
       "3  [{'name': 'Hans Zimmer', 'gender': 2, 'departm...  Christopher Nolan  \n",
       "4  [{'name': 'Andrew Stanton', 'gender': 2, 'depa...     Andrew Stanton  \n",
       "\n",
       "[5 rows x 24 columns]"
      ]
     },
     "execution_count": 737,
     "metadata": {},
     "output_type": "execute_result"
    }
   ],
   "source": [
    " #To Print First 5 datas in dataset\n",
    " movies_data.head()"
   ]
  },
  {
   "cell_type": "code",
   "execution_count": 739,
   "metadata": {},
   "outputs": [
    {
     "data": {
      "text/plain": [
       "(4803, 24)"
      ]
     },
     "execution_count": 739,
     "metadata": {},
     "output_type": "execute_result"
    }
   ],
   "source": [
    " #To check Rows and Columns\n",
    " movies_data.shape"
   ]
  },
  {
   "cell_type": "code",
   "execution_count": 741,
   "metadata": {},
   "outputs": [],
   "source": [
    "# Feature Selection"
   ]
  },
  {
   "cell_type": "code",
   "execution_count": 743,
   "metadata": {},
   "outputs": [
    {
     "name": "stdout",
     "output_type": "stream",
     "text": [
      "['genres', 'keywords', 'tagline', 'cast', 'director']\n"
     ]
    }
   ],
   "source": [
    " #Relevent Features for Recommendation\n",
    " selected_features = ['genres','keywords','tagline','cast','director']\n",
    " print(selected_features)"
   ]
  },
  {
   "cell_type": "code",
   "execution_count": 749,
   "metadata": {},
   "outputs": [],
   "source": [
    "#Replacing Null Values With Null String\n",
    "for feature in selected_features:\n",
    " movies_data[feature] = movies_data[feature].fillna('')"
   ]
  },
  {
   "cell_type": "code",
   "execution_count": 753,
   "metadata": {},
   "outputs": [],
   "source": [
    " #Combining Selected Features\n",
    " combined_features = movies_data['genres']+' '+movies_data['keywords']+''+movies_data['tagline']+' '+movies_data['cast']+' '+movies_data['director']"
   ]
  },
  {
   "cell_type": "code",
   "execution_count": 755,
   "metadata": {},
   "outputs": [
    {
     "name": "stdout",
     "output_type": "stream",
     "text": [
      "0       Action Adventure Fantasy Science Fiction cultu...\n",
      "1       Adventure Fantasy Action ocean drug abuse exot...\n",
      "2       Action Adventure Crime spy based on novel secr...\n",
      "3       Action Crime Drama Thriller dc comics crime fi...\n",
      "4       Action Adventure Science Fiction based on nove...\n",
      "                              ...                        \n",
      "4798    Action Crime Thriller united states\\u2013mexic...\n",
      "4799    Comedy Romance A newlywed couple's honeymoon i...\n",
      "4800    Comedy Drama Romance TV Movie date love at fir...\n",
      "4801     A New Yorker in Shanghai Daniel Henney Eliza ...\n",
      "4802    Documentary obsession camcorder crush dream gi...\n",
      "Length: 4803, dtype: object\n"
     ]
    }
   ],
   "source": [
    "print(combined_features)"
   ]
  },
  {
   "cell_type": "code",
   "execution_count": 757,
   "metadata": {},
   "outputs": [],
   "source": [
    "vectorizer=TfidfVectorizer()"
   ]
  },
  {
   "cell_type": "code",
   "execution_count": 759,
   "metadata": {},
   "outputs": [],
   "source": [
    "feature_vectors= vectorizer.fit_transform(combined_features)"
   ]
  },
  {
   "cell_type": "code",
   "execution_count": 761,
   "metadata": {},
   "outputs": [
    {
     "name": "stdout",
     "output_type": "stream",
     "text": [
      "  (0, 2825)\t0.17365733752396292\n",
      "  (0, 9224)\t0.11349377091205677\n",
      "  (0, 15280)\t0.19528566108954704\n",
      "  (0, 11950)\t0.16145450217509352\n",
      "  (0, 10299)\t0.22831712302293364\n",
      "  (0, 17141)\t0.152325312366219\n",
      "  (0, 19540)\t0.20065059297287455\n",
      "  (0, 16470)\t0.20707370758386553\n",
      "  (0, 15611)\t0.2189235377509099\n",
      "  (0, 20254)\t0.2030704154867694\n",
      "  (0, 19951)\t0.2377107082949574\n",
      "  (0, 15641)\t0.15102423741048945\n",
      "  (0, 13458)\t0.2735833232498806\n",
      "  (0, 13114)\t0.09102271907804357\n",
      "  (0, 19935)\t0.1296922122527455\n",
      "  (0, 17938)\t0.07835679145512903\n",
      "  (0, 16721)\t0.28682283809133036\n",
      "  (0, 3741)\t0.2569035071769314\n",
      "  (0, 19434)\t0.12763467115712607\n",
      "  (0, 16843)\t0.3463021691447409\n",
      "  (0, 7007)\t0.16761913103948795\n",
      "  (0, 3561)\t0.22831712302293364\n",
      "  (0, 4316)\t0.21507760818148391\n",
      "  (0, 6451)\t0.1042622339194933\n",
      "  (0, 15922)\t0.10438430008517753\n",
      "  :\t:\n",
      "  (4801, 20230)\t0.288447054553863\n",
      "  (4801, 5749)\t0.24699827490898943\n",
      "  (4801, 520)\t0.1771758756927387\n",
      "  (4801, 8230)\t0.288447054553863\n",
      "  (4801, 13645)\t0.21545343228494443\n",
      "  (4801, 1967)\t0.15639109491898898\n",
      "  (4801, 12788)\t0.1352323867935049\n",
      "  (4801, 8884)\t0.11759281868384805\n",
      "  (4801, 4444)\t0.3340923783576234\n",
      "  (4802, 8302)\t0.5679201563597265\n",
      "  (4802, 6379)\t0.22885110047132695\n",
      "  (4802, 4288)\t0.26155287755231715\n",
      "  (4802, 2813)\t0.2434623138361356\n",
      "  (4802, 5440)\t0.2391456769247711\n",
      "  (4802, 7665)\t0.216738476297225\n",
      "  (4802, 5161)\t0.15326134139406383\n",
      "  (4802, 7378)\t0.18711776825989412\n",
      "  (4802, 15239)\t0.1690272045437126\n",
      "  (4802, 1576)\t0.19535760813232209\n",
      "  (4802, 5354)\t0.19433127566967895\n",
      "  (4802, 4027)\t0.216738476297225\n",
      "  (4802, 5901)\t0.16019251725181294\n",
      "  (4802, 2482)\t0.30883198235780784\n",
      "  (4802, 5332)\t0.17142287496800485\n",
      "  (4802, 13079)\t0.18122390355642892\n"
     ]
    }
   ],
   "source": [
    "print(feature_vectors)"
   ]
  },
  {
   "cell_type": "code",
   "execution_count": 763,
   "metadata": {},
   "outputs": [],
   "source": [
    "# Cosine similarity"
   ]
  },
  {
   "cell_type": "code",
   "execution_count": 765,
   "metadata": {},
   "outputs": [],
   "source": [
    "cosine_similarity= cosine_similarity(feature_vectors)"
   ]
  },
  {
   "cell_type": "code",
   "execution_count": 767,
   "metadata": {},
   "outputs": [
    {
     "name": "stdout",
     "output_type": "stream",
     "text": [
      "[[1.         0.07376915 0.03750476 ... 0.         0.         0.        ]\n",
      " [0.07376915 1.         0.03276527 ... 0.01216731 0.         0.        ]\n",
      " [0.03750476 0.03276527 1.         ... 0.         0.05322545 0.        ]\n",
      " ...\n",
      " [0.         0.01216731 0.         ... 1.         0.         0.02626214]\n",
      " [0.         0.         0.05322545 ... 0.         1.         0.        ]\n",
      " [0.         0.         0.         ... 0.02626214 0.         1.        ]]\n"
     ]
    }
   ],
   "source": [
    "print(cosine_similarity)"
   ]
  },
  {
   "cell_type": "code",
   "execution_count": 773,
   "metadata": {},
   "outputs": [
    {
     "data": {
      "text/plain": [
       "(4803, 4803)"
      ]
     },
     "execution_count": 773,
     "metadata": {},
     "output_type": "execute_result"
    }
   ],
   "source": [
    "cosine_similarity.shape"
   ]
  },
  {
   "cell_type": "code",
   "execution_count": 775,
   "metadata": {},
   "outputs": [
    {
     "name": "stdin",
     "output_type": "stream",
     "text": [
      "Enter Your Favourite Movie Name :  Bat Man\n"
     ]
    }
   ],
   "source": [
    " #Getting Input\n",
    " movie_name = input('Enter Your Favourite Movie Name : ')"
   ]
  },
  {
   "cell_type": "code",
   "execution_count": 9,
   "metadata": {},
   "outputs": [],
   "source": [
    " #Creating a list with all movie names given in the dataset\n",
    "#commenting long output\n",
    "# list_of_all_titles = movies_data['title'].tolist()\n",
    "# print(list_of_all_titles)"
   ]
  },
  {
   "cell_type": "code",
   "execution_count": 783,
   "metadata": {},
   "outputs": [
    {
     "name": "stdout",
     "output_type": "stream",
     "text": [
      "['Batman', 'Batman', 'Rain Man']\n"
     ]
    }
   ],
   "source": [
    "#Finding The close match for user Input\n",
    "find_close_match = difflib.get_close_matches(movie_name, list_of_all_titles)\n",
    "print(find_close_match)"
   ]
  },
  {
   "cell_type": "code",
   "execution_count": 785,
   "metadata": {},
   "outputs": [
    {
     "name": "stdout",
     "output_type": "stream",
     "text": [
      "Batman\n"
     ]
    }
   ],
   "source": [
    "close_match = find_close_match[0]\n",
    "print(close_match)"
   ]
  },
  {
   "cell_type": "code",
   "execution_count": 789,
   "metadata": {},
   "outputs": [
    {
     "name": "stdout",
     "output_type": "stream",
     "text": [
      "1359\n"
     ]
    }
   ],
   "source": [
    "#Finding The Index of the movie with title\n",
    "index_of_the_movie = movies_data[movies_data.title == close_match]['index'].values[0]\n",
    "print(index_of_the_movie)"
   ]
  },
  {
   "cell_type": "code",
   "execution_count": 11,
   "metadata": {},
   "outputs": [],
   "source": [
    "#Getting Similar Movies\n",
    "#commenting long output\n",
    "#similarity_score = list(enumerate(cosine_similarity[index_of_the_movie]))\n",
    "#print(similarity_score)"
   ]
  },
  {
   "cell_type": "code",
   "execution_count": 793,
   "metadata": {},
   "outputs": [
    {
     "data": {
      "text/plain": [
       "4803"
      ]
     },
     "execution_count": 793,
     "metadata": {},
     "output_type": "execute_result"
    }
   ],
   "source": [
    "len(similarity_score)"
   ]
  },
  {
   "cell_type": "code",
   "execution_count": 13,
   "metadata": {},
   "outputs": [],
   "source": [
    "#sorting the movies based on their similarty score\n",
    "#commenting long output\n",
    "#Sorted_similar_movies = sorted(similarity_score, key = lambda x:x[1], reverse =True)\n",
    "#print(Sorted_similar_movies)"
   ]
  },
  {
   "cell_type": "code",
   "execution_count": 801,
   "metadata": {},
   "outputs": [
    {
     "name": "stdout",
     "output_type": "stream",
     "text": [
      "Movies suggested for you : \n",
      "\n",
      "1 . Batman\n",
      "2 . Batman Returns\n",
      "3 . Batman & Robin\n",
      "4 . The Dark Knight Rises\n",
      "5 . A History of Violence\n",
      "6 . The Dark Knight\n",
      "7 . Beetlejuice\n",
      "8 . Mars Attacks!\n",
      "9 . Batman Begins\n"
     ]
    }
   ],
   "source": [
    "#Print the name of similar movies based on index\n",
    "print('Movies suggested for you : \\n')\n",
    "i = 1\n",
    "for movie in Sorted_similar_movies:\n",
    " index = movie[0]\n",
    " title_from_index = movies_data[movies_data.index==index]['title'].values[0]\n",
    " if (i<10):\n",
    "  print(i, '.',title_from_index)\n",
    "  i+=1"
   ]
  },
  {
   "cell_type": "code",
   "execution_count": 805,
   "metadata": {},
   "outputs": [],
   "source": [
    " #Building Movie Recommendation System"
   ]
  },
  {
   "cell_type": "code",
   "execution_count": 815,
   "metadata": {},
   "outputs": [
    {
     "name": "stdin",
     "output_type": "stream",
     "text": [
      "Enter Your Favourite Movie Name :  Captain America\n"
     ]
    },
    {
     "name": "stdout",
     "output_type": "stream",
     "text": [
      "Movies suggested for you : \n",
      "\n",
      "1 . Captain America: Civil War\n",
      "2 . Captain America: The Winter Soldier\n",
      "3 . Avengers: Age of Ultron\n",
      "4 . The Avengers\n",
      "5 . Iron Man 2\n",
      "6 . Captain America: The First Avenger\n",
      "7 . Iron Man 3\n",
      "8 . Thor: The Dark World\n",
      "9 . Iron Man\n"
     ]
    }
   ],
   "source": [
    " #Getting input\n",
    "movie_name = input('Enter Your Favourite Movie Name : ')\n",
    "list_of_all_titles = movies_data['title'].tolist()\n",
    " find_close_match = difflib.get_close_matches(movie_name, list_of_all_titles)\n",
    " close_match = find_close_match[0]\n",
    " index_of_the_movie = movies_data[movies_data.title == close_match]['index'].values[0]\n",
    " similarity_score = list(enumerate(cosine_similarity[index_of_the_movie]))\n",
    " Sorted_similar_movies = sorted(similarity_score, key = lambda x:x[1], reverse =True)\n",
    " print('Movies suggested for you : \\n')\n",
    " i = 1\n",
    " for movie in Sorted_similar_movies:\n",
    "  index = movie[0]\n",
    "  title_from_index = movies_data[movies_data.index==index]['title'].values[0]\n",
    "  if (i<10):\n",
    "   print(i, '.',title_from_index)\n",
    "   i+=1"
   ]
  }
 ],
 "metadata": {
  "kernelspec": {
   "display_name": "Python 3 (ipykernel)",
   "language": "python",
   "name": "python3"
  },
  "language_info": {
   "codemirror_mode": {
    "name": "ipython",
    "version": 3
   },
   "file_extension": ".py",
   "mimetype": "text/x-python",
   "name": "python",
   "nbconvert_exporter": "python",
   "pygments_lexer": "ipython3",
   "version": "3.12.4"
  }
 },
 "nbformat": 4,
 "nbformat_minor": 4
}
